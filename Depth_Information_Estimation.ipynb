{
  "nbformat": 4,
  "nbformat_minor": 0,
  "metadata": {
    "colab": {
      "provenance": [],
      "authorship_tag": "ABX9TyNwUwQmse/u2CWC0oBgH2Mg",
      "include_colab_link": true
    },
    "kernelspec": {
      "name": "python3",
      "display_name": "Python 3"
    },
    "language_info": {
      "name": "python"
    }
  },
  "cells": [
    {
      "cell_type": "markdown",
      "metadata": {
        "id": "view-in-github",
        "colab_type": "text"
      },
      "source": [
        "<a href=\"https://colab.research.google.com/github/tranducminh26/Image-Depth/blob/main/Depth_Information_Estimation.ipynb\" target=\"_parent\"><img src=\"https://colab.research.google.com/assets/colab-badge.svg\" alt=\"Open In Colab\"/></a>"
      ]
    },
    {
      "cell_type": "code",
      "execution_count": null,
      "metadata": {
        "id": "Ob-QyCq0wtWm"
      },
      "outputs": [],
      "source": [
        "import cv2\n",
        "import numpy as np"
      ]
    },
    {
      "cell_type": "code",
      "source": [
        "def l1_distance(x, y):\n",
        "    return abs(x - y)\n",
        "\n",
        "def l2_distance(x, y):\n",
        "    return (x - y)**2"
      ],
      "metadata": {
        "id": "UmjWYKg865Gg"
      },
      "execution_count": null,
      "outputs": []
    },
    {
      "cell_type": "markdown",
      "source": [
        "# **Problem 1**"
      ],
      "metadata": {
        "id": "0NR2p5ZxDjVm"
      }
    },
    {
      "cell_type": "code",
      "source": [
        "def pixel_wise_matching_l1(left_img, right_img, disparity_range, save_result=True):\n",
        "    left = cv2.imread(left_img, 0)\n",
        "    right = cv2.imread(right_img, 0)\n",
        "\n",
        "    left = left.astype(np.float32)\n",
        "    right = right.astype(np.float32)\n",
        "\n",
        "    height, width = left.shape[:2]\n",
        "\n",
        "    depth = np.zeros((height, width), np.uint8)\n",
        "    scale = 16\n",
        "    max_value = 255\n",
        "\n",
        "    for y in range(height):\n",
        "        for x in range(width):\n",
        "            disparity = 0\n",
        "            cost_min = max_value\n",
        "            for j in range(disparity_range):\n",
        "                cost = max_value\n",
        "                if (x - j) >= 0:\n",
        "                    cost = l1_distance(left[y, x], right[y, x - j])\n",
        "\n",
        "                if cost < cost_min:\n",
        "                    cost_min = cost\n",
        "                    disparity = j\n",
        "            depth[y, x] = disparity * scale\n",
        "\n",
        "    if save_result == True:\n",
        "        print('Saving result...')\n",
        "        cv2.imwrite('pixel_wise_l1.png', depth)\n",
        "        cv2.imwrite('pixel_wise_l1_color.png', cv2.applyColorMap(depth, cv2.COLORMAP_JET))\n",
        "\n",
        "    print('Done.')\n",
        "\n",
        "    return depth"
      ],
      "metadata": {
        "id": "u4ijmYm_65IU"
      },
      "execution_count": null,
      "outputs": []
    },
    {
      "cell_type": "code",
      "source": [
        "def pixel_wise_matching_l2(left_img, right_img, disparity_range, save_result=True):\n",
        "    left = cv2.imread(left_img, 0)\n",
        "    right = cv2.imread(right_img, 0)\n",
        "\n",
        "    left = left.astype(np.float32)\n",
        "    right = right.astype(np.float32)\n",
        "\n",
        "    height, width = left.shape[:2]\n",
        "\n",
        "    depth = np.zeros((height, width), np.uint8)\n",
        "    scale = 16\n",
        "    max_value = 255\n",
        "\n",
        "    for y in range(height):\n",
        "        for x in range(width):\n",
        "            disparity = 0\n",
        "            cost_min = max_value\n",
        "            for j in range(disparity_range):\n",
        "                cost = max_value\n",
        "                if (x - j) >= 0:\n",
        "                    cost = l2_distance(left[y, x], right[y, x - j])\n",
        "\n",
        "                if cost < cost_min:\n",
        "                    cost_min = cost\n",
        "                    disparity = j\n",
        "            depth[y, x] = disparity * scale\n",
        "\n",
        "    if save_result == True:\n",
        "        print('Saving result...')\n",
        "        cv2.imwrite('pixel_wise_l2.png', depth)\n",
        "        cv2.imwrite('pixel_wise_l2_color.png', cv2.applyColorMap(depth, cv2.COLORMAP_JET))\n",
        "\n",
        "    print('Done.')\n",
        "\n",
        "    return depth"
      ],
      "metadata": {
        "id": "REIYpU0d65Lz"
      },
      "execution_count": null,
      "outputs": []
    },
    {
      "cell_type": "code",
      "source": [
        "left_img_path = '/content/left.png'\n",
        "right_img_path = '/content/right.png'\n",
        "disparity_range = 16\n",
        "\n",
        "pixel_wise_result_l1 = pixel_wise_matching_l1(left_img_path, right_img_path, disparity_range, save_result=True)\n",
        "pixel_wise_result_l2 = pixel_wise_matching_l2(left_img_path, right_img_path, disparity_range, save_result=True)"
      ],
      "metadata": {
        "colab": {
          "base_uri": "https://localhost:8080/"
        },
        "id": "FpqMOTlJ65PV",
        "outputId": "79da3cbd-a38b-48e8-8d5a-f94447c20378"
      },
      "execution_count": null,
      "outputs": [
        {
          "output_type": "stream",
          "name": "stdout",
          "text": [
            "Saving result...\n",
            "Done.\n",
            "Saving result...\n",
            "Done.\n"
          ]
        }
      ]
    },
    {
      "cell_type": "markdown",
      "source": [
        "# **Problem 2**"
      ],
      "metadata": {
        "id": "bBKaSq3QDp2X"
      }
    },
    {
      "cell_type": "code",
      "source": [
        "def window_base_matching_l1(left_img, right_img, disparity_range, kernel_size=5, save_result=True):\n",
        "    left = cv2.imread(left_img, 0)\n",
        "    right = cv2.imread(right_img, 0)\n",
        "\n",
        "    left = left.astype(np.float32)\n",
        "    right = right.astype(np.float32)\n",
        "\n",
        "    height, width = left.shape[:2]\n",
        "\n",
        "    depth = np.zeros((height, width), np.uint8)\n",
        "\n",
        "    kernel_half = int((kernel_size - 1) / 2)\n",
        "    scale = 3\n",
        "    max_value = 255 * (kernel_size ** 2)\n",
        "\n",
        "    for y in range(kernel_half, height - kernel_half):\n",
        "        for x in range(kernel_half, width - kernel_half):\n",
        "            disparity = 0\n",
        "            cost_min = 65534\n",
        "            for j in range(disparity_range):\n",
        "                total = 0\n",
        "                value = 0\n",
        "                for v in range(-kernel_half, kernel_half + 1):\n",
        "                    for u in range(-kernel_half, kernel_half + 1):\n",
        "                        value = max_value\n",
        "                        if (x + u - j) >= 0:\n",
        "                            value = l1_distance(left[y + v, x + u], right[y + v, x + u - j])\n",
        "\n",
        "                        total += value\n",
        "\n",
        "                if total < cost_min:\n",
        "                    cost_min = total\n",
        "                    disparity = j\n",
        "\n",
        "            depth[y, x] = disparity * scale\n",
        "\n",
        "    if save_result == True:\n",
        "        print('Saving result...')\n",
        "        cv2.imwrite('window_base_matching_l1.png', depth)\n",
        "        cv2.imwrite('window_base_matching_l1_color.png', cv2.applyColorMap(depth, cv2.COLORMAP_JET))\n",
        "\n",
        "    print('Done.')\n",
        "\n",
        "    return depth"
      ],
      "metadata": {
        "id": "4Dhf8ljNHHDh"
      },
      "execution_count": null,
      "outputs": []
    },
    {
      "cell_type": "code",
      "source": [
        "def window_base_matching_l2(left_img, right_img, disparity_range, kernel_size=5, save_result=True):\n",
        "    left = cv2.imread(left_img, 0)\n",
        "    right = cv2.imread(right_img, 0)\n",
        "\n",
        "    left = left.astype(np.float32)\n",
        "    right = right.astype(np.float32)\n",
        "\n",
        "    height, width = left.shape[:2]\n",
        "\n",
        "    depth = np.zeros((height, width), np.uint8)\n",
        "\n",
        "    kernel_half = int((kernel_size - 1) / 2)\n",
        "    scale = 3\n",
        "    max_value = 255 * (kernel_size ** 2)\n",
        "\n",
        "    for y in range(kernel_half, height - kernel_half):\n",
        "        for x in range(kernel_half, width - kernel_half):\n",
        "            disparity = 0\n",
        "            cost_min = 65534\n",
        "            for j in range(disparity_range):\n",
        "                total = 0\n",
        "                value = 0\n",
        "                for v in range(-kernel_half, kernel_half + 1):\n",
        "                    for u in range(-kernel_half, kernel_half + 1):\n",
        "                        value = max_value\n",
        "                        if (x + u - j) >= 0:\n",
        "                            value = l2_distance(left[y + v, x + u], right[y + v, x + u - j])\n",
        "\n",
        "                        total += value\n",
        "\n",
        "                if total < cost_min:\n",
        "                    cost_min = total\n",
        "                    disparity = j\n",
        "\n",
        "            depth[y, x] = disparity * scale\n",
        "\n",
        "    if save_result == True:\n",
        "        print('Saving result...')\n",
        "        cv2.imwrite('window_base_matching_l2.png', depth)\n",
        "        cv2.imwrite('window_base_matching_l2_color.png', cv2.applyColorMap(depth, cv2.COLORMAP_JET))\n",
        "\n",
        "    print('Done.')\n",
        "\n",
        "    return depth"
      ],
      "metadata": {
        "id": "z1faJrwiHHqO"
      },
      "execution_count": null,
      "outputs": []
    },
    {
      "cell_type": "code",
      "source": [
        "left_img_path = '/content/Aloe_left_1.png'\n",
        "right_img_path = '/content/Aloe_right_1.png'\n",
        "disparity_range = 64\n",
        "kernel_size = 3\n",
        "\n",
        "window_base_result_l1 = window_base_matching_l1(left_img_path, right_img_path, disparity_range, kernel_size, save_result=True)\n",
        "window_base_result_l2 = window_base_matching_l2(left_img_path, right_img_path, disparity_range, kernel_size, save_result=True)"
      ],
      "metadata": {
        "colab": {
          "base_uri": "https://localhost:8080/"
        },
        "id": "SstKGuj8HHsx",
        "outputId": "763bfb62-c965-4b64-84ac-0d804030e699"
      },
      "execution_count": null,
      "outputs": [
        {
          "output_type": "stream",
          "name": "stdout",
          "text": [
            "Saving result...\n",
            "Done.\n",
            "Saving result...\n",
            "Done.\n"
          ]
        }
      ]
    },
    {
      "cell_type": "markdown",
      "source": [
        "# **Problem 3**"
      ],
      "metadata": {
        "id": "8ZNj_1rMmjbk"
      }
    },
    {
      "cell_type": "code",
      "source": [
        "def cosine_similarity(x, y):\n",
        "    numerator = np.dot(x, y)\n",
        "    denominator = np.linalg.norm(x) * np.linalg.norm(y)\n",
        "    return numerator / denominator"
      ],
      "metadata": {
        "id": "a7aqzC9BHHu7"
      },
      "execution_count": null,
      "outputs": []
    },
    {
      "cell_type": "code",
      "source": [
        "def window_base_matching(left_img, right_img, disparity_range, kernel_size=5, save_result=True):\n",
        "    left = cv2.imread(left_img, 0)\n",
        "    right = cv2.imread(right_img, 0)\n",
        "\n",
        "    left = left.astype(np.float32)\n",
        "    right = right.astype(np.float32)\n",
        "\n",
        "    height, width = left.shape[:2]\n",
        "\n",
        "    kernel_half = int((kernel_size - 1) / 2)\n",
        "    depth = np.zeros((height, width), np.uint8)\n",
        "    scale = 3\n",
        "\n",
        "    for y in range(kernel_half, height - kernel_half):\n",
        "        for x in range(kernel_half, width - kernel_half):\n",
        "            disparity = 0\n",
        "            cost_optimal = -1\n",
        "            for j in range(disparity_range):\n",
        "                d = x - j\n",
        "                cost = -1\n",
        "                if (d - kernel_half) >= 0:\n",
        "                    wp = left[(y - kernel_half) : (y + kernel_half) + 1, (x - kernel_half) : (x + kernel_half) + 1]\n",
        "                    wpd = right[(y - kernel_half) : (y + kernel_half) + 1, (d - kernel_half) : (d + kernel_half) + 1]\n",
        "\n",
        "                    wp_flattened = wp.flatten()\n",
        "                    wpd_flattended = wpd.flatten()\n",
        "\n",
        "                    cost = cosine_similarity(wp_flattened, wpd_flattended)\n",
        "\n",
        "                if cost > cost_optimal:\n",
        "                    cost_optimal = cost\n",
        "                    disparity = j\n",
        "\n",
        "            depth[y, x] = disparity * scale\n",
        "\n",
        "    if save_result == True:\n",
        "        print('Saving result...')\n",
        "        cv2.imwrite('window_base_cosine_similarity.png', depth)\n",
        "        cv2.imwrite('window_base_cosine_similarity_color.png', cv2.applyColorMap(depth, cv2.COLORMAP_JET))\n",
        "\n",
        "    print('Done.')\n",
        "\n",
        "    return depth"
      ],
      "metadata": {
        "id": "wZma8WYQHHwi"
      },
      "execution_count": null,
      "outputs": []
    },
    {
      "cell_type": "code",
      "source": [
        "left_img = '/content/Aloe_left_1.png'\n",
        "right_img = '/content/Aloe_right_2.png'\n",
        "disparity_range = 64\n",
        "kernel_size = 3\n",
        "\n",
        "window_base_result = window_base_matching(left_img, right_img, disparity_range, kernel_size, save_result=True)"
      ],
      "metadata": {
        "id": "cqKnfANLHHya",
        "colab": {
          "base_uri": "https://localhost:8080/"
        },
        "outputId": "ca65d333-d2c4-47e8-b849-895fc2ca5711"
      },
      "execution_count": null,
      "outputs": [
        {
          "output_type": "stream",
          "name": "stdout",
          "text": [
            "Saving result...\n",
            "Done.\n"
          ]
        }
      ]
    }
  ]
}